{
 "cells": [
  {
   "cell_type": "code",
   "execution_count": 6,
   "id": "7d6fb8dc",
   "metadata": {},
   "outputs": [],
   "source": [
    "import requests\n",
    "import requests.auth\n",
    "from dotenv import load_dotenv\n",
    "import os\n",
    "import praw\n",
    "load_dotenv(override=True)\n",
    "reddit_app_id = os.getenv('REDDIT_APP_ID')\n",
    "reddit_app_secret = os.getenv('REDDIT_APP_SECRET')\n",
    "reddit_username = os.getenv('REDDIT_USERNAME')\n",
    "reddit_password = os.getenv('REDDIT_PASSWORD')\n",
    "\n"
   ]
  },
  {
   "cell_type": "code",
   "execution_count": 7,
   "id": "aa61c56b",
   "metadata": {},
   "outputs": [],
   "source": [
    "reddit=praw.Reddit(\n",
    "    client_id=reddit_app_id,\n",
    "    client_secret=reddit_app_secret,\n",
    "    user_agent=\"RedditAgent/0.1 by BraiseTheSun\",\n",
    "    username=reddit_username,\n",
    "    password=reddit_password\n",
    ")"
   ]
  },
  {
   "cell_type": "markdown",
   "id": "186e41eb",
   "metadata": {},
   "source": []
  },
  {
   "cell_type": "code",
   "execution_count": 1,
   "id": "fda8df1f",
   "metadata": {},
   "outputs": [],
   "source": [
    "from langchain_core.prompts import ChatPromptTemplate\n",
    "from langchain_ollama import ChatOllama\n",
    "from llm_wrappers.deepseek_wrapper import DeepSeekWrapper\n",
    "\n",
    "template = \"\"\"Question: {question}\n",
    "\n",
    "Answer: Let's think step by step.\"\"\"\n",
    "\n",
    "prompt = ChatPromptTemplate.from_template(template)\n",
    "\n",
    "model = DeepSeekWrapper(model_name=\"deepseek-r1:7b\")\n",
    "\n",
    "chain = prompt | model\n",
    "op=chain.invoke({\"question\": \"What is LangChain?\"})"
   ]
  },
  {
   "cell_type": "code",
   "execution_count": 2,
   "id": "ded5afed",
   "metadata": {},
   "outputs": [
    {
     "name": "stdout",
     "output_type": "stream",
     "text": [
      "<think>\n",
      "Okay, so I need to figure out what LangChain is. I've heard the term before but don't really know much about it. Let me start by breaking down the question and thinking through each part.\n",
      "\n",
      "First off, \"Lang\" in this context probably refers to language. Maybe it's something related to how we communicate? Then \"Chain\" could mean a series of connected parts or steps. So maybe LangChain is a chain of languages or something like that?\n",
      "\n",
      "I remember hearing about language models before, like those used in chatbots or translation tools. Maybe LangChain has something to do with that. Perhaps it's a framework built on top of these models? I think I've heard of something called LangChain in the context of AI development.\n",
      "\n",
      "Wait, I think I might have come across a project or tool named LangChain somewhere. Wasn't there an open-source project related to this? Oh right, I believe it stands for Large Language Chain. It seems like it's used with large language models. I've heard that large language models can generate text based on what they've learned.\n",
      "\n",
      "So maybe LangChain is a framework or library that helps build applications using these models. How does that work exactly? If you use a model like GPT-3, which can write essays or answer questions, how would LangChain help integrate that into real-world apps?\n",
      "\n",
      "I think it might provide tools for tasks like summarization, answering questions, writing emails, or even more complex AI applications. It could be used to create APIs where other services can access the model's capabilities.\n",
      "\n",
      "Also, I remember something about a company called OpenAI using models with LangChain. Maybe it's designed to work with those as well. So perhaps LangChain acts as an intermediary or platform that allows developers to use these language models without having to integrate everything from scratch.\n",
      "\n",
      "What about scalability? Can LangChain handle large-scale applications where many users are accessing the model simultaneously? I imagine that with a chain structure, there might be some advantages in managing how tasks are passed along or processed.\n",
      "\n",
      "I'm not entirely sure if LangChain is just for generating text or if it's used for other purposes too. Maybe it also helps with decision-making processes by using the model to analyze information and suggest options based on what it has learned.\n",
      "\n",
      "Another thought: since it's built around large language models, which can process a vast amount of information, LangChain probably leverages that capability to provide more accurate or comprehensive responses in applications. This could be useful for customer support systems where each query needs detailed analysis and multiple steps to answer correctly.\n",
      "\n",
      "I'm also curious about the architecture of LangChain. How does it connect different parts together? Is it modular, allowing flexibility in how components are used? And how user-friendly is it for developers who might not have extensive experience with these models?\n",
      "\n",
      "In summary, my understanding is that LangChain is an open-source framework designed to work with large language models like GPT-3. It provides tools and libraries to build various AI applications by integrating the model's capabilities into existing systems or services. This allows developers to create more sophisticated and tailored AI solutions without needing to code everything from scratch.\n",
      "\n",
      "I think I need to verify if my understanding is correct. Maybe looking up some resources or official documentation would help solidify these points and fill in any gaps in knowledge.\n",
      "</think>\n",
      "\n",
      "LangChain, short for Large Language Chain, is an open-source framework designed to facilitate the creation of AI applications using large language models such as GPT-3. It serves as a platform that provides tools and libraries enabling developers to build sophisticated AI solutions without extensive integration work from scratch.\n",
      "\n",
      "Key aspects of LangChain include:\n",
      "\n",
      "1. **Integration with Language Models**: LangChain works seamlessly with models like GPT-3, allowing it to generate text, answer questions, and assist in various tasks such as summarization or essay writing.\n",
      "\n",
      "2. **Versatility**: It is used for a range of applications, from simple customer support systems to complex AI-driven decision-making processes, leveraging the model's ability to process vast information.\n",
      "\n",
      "3. **Scalability and Flexibility**: The framework supports large-scale applications by managing task processing efficiently and offers flexibility through its modular architecture, accommodating diverse use cases.\n",
      "\n",
      "4. **User-Friendly Features**: LangChain provides APIs that allow integration into existing services, making it accessible for developers of varying expertise to deploy advanced AI capabilities.\n",
      "\n",
      "5. **Community and Collaboration**: Being open-source, it encourages community contributions, fostering innovation and adaptability across different projects.\n",
      "\n",
      "In essence, LangChain enhances the usability of large language models by providing structured tools and libraries, enabling developers to create tailored AI applications efficiently.\n"
     ]
    }
   ],
   "source": [
    "print(op.content)"
   ]
  },
  {
   "cell_type": "code",
   "execution_count": 8,
   "id": "f094dc12",
   "metadata": {},
   "outputs": [
    {
     "data": {
      "text/plain": [
       "Submission(id='1m3dtag')"
      ]
     },
     "execution_count": 8,
     "metadata": {},
     "output_type": "execute_result"
    }
   ],
   "source": [
    "reddit.subreddit(\"test\").submit(\"Test Submission\", url=\"https://reddit.com\")"
   ]
  }
 ],
 "metadata": {
  "kernelspec": {
   "display_name": ".venv",
   "language": "python",
   "name": "python3"
  },
  "language_info": {
   "codemirror_mode": {
    "name": "ipython",
    "version": 3
   },
   "file_extension": ".py",
   "mimetype": "text/x-python",
   "name": "python",
   "nbconvert_exporter": "python",
   "pygments_lexer": "ipython3",
   "version": "3.13.2"
  }
 },
 "nbformat": 4,
 "nbformat_minor": 5
}
