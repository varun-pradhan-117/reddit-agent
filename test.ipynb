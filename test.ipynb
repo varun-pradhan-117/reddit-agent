{
 "cells": [
  {
   "cell_type": "code",
   "execution_count": 3,
   "id": "7d6fb8dc",
   "metadata": {},
   "outputs": [],
   "source": [
    "import praw\n",
    "import os\n",
    "from bson import ObjectId\n",
    "from datetime import datetime\n"
   ]
  },
  {
   "cell_type": "code",
   "execution_count": 4,
   "id": "1c99457c",
   "metadata": {},
   "outputs": [],
   "source": [
    "reddit = praw.Reddit(\n",
    "    client_id=os.getenv(\"CLIENT_ID\"),\n",
    "    client_secret=os.getenv(\"CLIENT_SECRET\"),\n",
    "    user_agent=\"Sentibot/0.1 by u/BraiseTheSun\",\n",
    ")"
   ]
  },
  {
   "cell_type": "code",
   "execution_count": null,
   "id": "13c91cf8",
   "metadata": {},
   "outputs": [],
   "source": [
    "subreddit = reddit.subreddit('conservative')"
   ]
  },
  {
   "cell_type": "code",
   "execution_count": 19,
   "id": "f569c316",
   "metadata": {},
   "outputs": [
    {
     "name": "stdout",
     "output_type": "stream",
     "text": [
      "All the talk about Trump, yet Jeffrey Epstein was invited to and did visit the White House during Bill Clinton’s presidency at least 17 times. The dems leave that out for some reason.\n",
      "Clinton and Epstein\n"
     ]
    }
   ],
   "source": [
    "for post in subreddit.search(\"Epstein\",time_filter='week',limit=10):\n",
    "    if post.selftext:\n",
    "        print(post.selftext.rstrip())\n",
    "        print(post.title)\n",
    "        temp=post.selftext\n",
    "        break\n",
    "\n",
    "\n",
    "\n",
    "\n",
    "\n",
    "\n",
    "    "
   ]
  },
  {
   "cell_type": "code",
   "execution_count": 18,
   "id": "52c47c18",
   "metadata": {},
   "outputs": [
    {
     "data": {
      "text/plain": [
       "'All the talk about Trump, yet Jeffrey Epstein was invited to and did visit the White House during Bill Clinton’s presidency at least 17 times. The dems leave that out for some reason. \\n\\n\\n\\n\\n'"
      ]
     },
     "execution_count": 18,
     "metadata": {},
     "output_type": "execute_result"
    }
   ],
   "source": [
    "temp"
   ]
  },
  {
   "cell_type": "code",
   "execution_count": 1,
   "id": "3e106ad6",
   "metadata": {},
   "outputs": [],
   "source": [
    "from pymongo import MongoClient, UpdateOne"
   ]
  },
  {
   "cell_type": "code",
   "execution_count": 2,
   "id": "da25f8c6",
   "metadata": {},
   "outputs": [],
   "source": [
    "mongo=MongoClient(\"mongodb://localhost:27017/\")"
   ]
  },
  {
   "cell_type": "code",
   "execution_count": 4,
   "id": "7c18dcda",
   "metadata": {},
   "outputs": [
    {
     "name": "stdout",
     "output_type": "stream",
     "text": [
      "['admin', 'config', 'local']\n"
     ]
    }
   ],
   "source": [
    "print(mongo.list_database_names())"
   ]
  },
  {
   "cell_type": "code",
   "execution_count": 2,
   "id": "aa61c56b",
   "metadata": {},
   "outputs": [],
   "source": [
    "top=get_reddit_data(\"AskReddit\", 100)"
   ]
  },
  {
   "cell_type": "code",
   "execution_count": 4,
   "id": "3fb09d1c",
   "metadata": {},
   "outputs": [
    {
     "name": "stdout",
     "output_type": "stream",
     "text": [
      "People who haven't pooped in 2019 yet, why are you still holding on to last years shit?\n",
      "How would you feel about Reddit adding 3 NSFW filters to distinguish between porn, gore, and repetitive posts asking how you would feel about Reddit adding 2 NSFW filters to distinguish between porn and gore?\n",
      "Would you watch a show where a billionaire CEO has to go an entire month on their lowest paid employees salary, without access to any other resources than that of the employee? What do you think would happen?\n",
      "What if God came down one day and said \"It's pronounced 'Jod' then left?\n",
      "How would you feel about a feature where if someone upvotes a crosspost, the original post is upvoted automatically?\n",
      "How would you feel about a \"if you accidentally scroll to the top, you can go back to where you were,\" button for Reddit?\n",
      "Stan Lee has passed away at 95 years old\n",
      "Reddit, how would you feel about a law that bans radio stations from playing commercials with honking/beeping/siren noises in them?\n",
      "Bill Gates said, \"I will always choose a lazy person to do a difficult job because a lazy person will find an easy way to do it.\" What's a real-life example of this?\n",
      "What if Earth is like one of those uncontacted tribes in South America, like the whole Galaxy knows we're here but they've agreed not to contact us until we figure it out for ourselves?\n",
      "Anthony Bourdain once said \"There's a guy in my head, and all he wants to do is lay in bed all day long, smoke pot, and watch old movies and cartoons. My life is a series of strategems, to avoid, and outwit that guy\". Who is \"that guy\" for you, and what do you do to avoid him?\n",
      "How is everyone enjoying Reddit while Instagram Facebook and whatsapp are all down?\n",
      "It's more than likely that Covid-19 will still be around at Christmas time - how are we going to explain to kids that Santa is still allowed to go into millions of houses?\n",
      "Without saying what the category is, what are your top five?\n",
      "What free things online should everyone take advantage of?\n",
      "With all of the negative headlines dominating the news these days, it can be difficult to spot signs of progress. What makes you optimistic about the future?\n",
      "Steve Irwin has you pinned down in a headlock, what cool facts does he tell the audience about you and your habitat?\n",
      "[Serious] Americans, would you be in support of putting a law in place that government officials, such as senators and the president, go without pay during shutdowns like this while other federal employees do? Why, or why not?\n",
      "Iceland just announced that every Icelander over the age of 18 automatically become organ donors with ability to opt out. How do you feel about this?\n",
      "With Christmas 364 days away, people who already have their decorations up, why?\n",
      "Which legendary Reddit post / comment can you still not get over?\n",
      "You go to sleep on the 31st of December 2020 and wake up the next day but when you check your phone, it says January 1st 2020, after the first couple of days you realize it's just like groundhog day, what do you do with the information you have about 2020?\n",
      "How would you feel about a law that requires people over the age of 70 to pass a specialized driving test in order to continue driving?\n",
      "Now that PBS has announced they'll be televising the impeachment hearings, what will the drinking game rules be?\n",
      "The Pope slapped a woman on day 1 of 2020, world war III is trending on day 2, what will happen on day 3?\n",
      "If Reddit were to add an NSFL flair so that we could tell the difference between NSFW (Porn) and NSFL (Gore and stuff) do you think it would be useful? Why or why not?\n",
      "How would you feel if the only thing we knew about presidential candidates was their stance on issues...no information on party, name, gender, race, or religious beliefs (or lack thereof)?\n",
      "Turns out 2021 is just a bizarre and unprecedented as 2020, except its all good things that keep happening, what are they?\n",
      "Police Officers of Reddit, what are you thinking when you see cases like George Floyd?\n",
      "People who have Only fans, what is stopping you from upgrading to an air conditioner?\n",
      "How would you feel about a \"return to where you left off\" button for Reddit?\n",
      "At 9:21 tonight, it will be the 21st minute of the 21st hour of the 21st day of the 21st year of the 21st century. What will you be doing?\n",
      "Professor Stephen Hawking has passed away at the age of 76\n",
      "What life changing item can you buy for less than $100?\n",
      "George Carlin said “Think of how stupid the average person is, and realize half of them are stupider than that.” What real life example have you seen that validates this view?\n",
      "The 2010's decade will be over in 4 months. What do you think people will remember this decade for?\n",
      "How do you cope with being treated like you are crazy for following covid safety guidelines, when others around you aren’t doing the same?\n",
      "Would you support a mandatory retirement age of 75 for US House, US Senate & US Supreme Court Justices and if not why?\n",
      "You're offered the ability to absorb the knowledge of any book you touch instantly, but the way it works is that time freezes and won't unfreeze until you finish reading the book cover to cover, do you accept this power/curse? Why or why not?\n",
      "Girls who took notes using 50 different colored pens, where are you now? Do you still continue to write using all those colors?\n",
      "If Covid-19 wasn’t dominating the news right now, what would be some of the biggest stories be right now?\n",
      "What is something free from the internet everyone should take advantage of?\n",
      "You have just been cheated out of $1000 for a stupid brick. How do you take revenge?\n",
      "A new dating app is launched. Instead of a photo of the person, it shows you a photo of their bedroom, car, kitchen, shoes, how they have their tea/coffee, things like that... what photo would tell you the most about someone, and would you be most interested to see to choose a potential date?\n",
      "You gain control of JK Rowling's twitter account for a day. What unnecessary piece of information do you add to Harry Potter lore?\n",
      "African Proverb Says \"The child who is not embraced by the village will burn it down to feel the warmth\" What time in your life have you been closest to starting the fire?\n",
      "If “OK Boomer” was a digital assistant like “OK Google” what sorts of answers would it give you to certain questions?\n",
      "Former Flat Earthers. What made you come round?\n",
      "How would you feel if the U.S. government made the day for voting, a holiday?\n",
      "Suicide Prevention Megathread\n",
      "If instead of rebooting movies, retelling them from a different point of view became popular, which movie would you like retold?\n",
      "How the F do you make friends as an adult if you don't drink?\n",
      "Doctors of reddit, what’s it like when you go in for a doctors appointment? Do you and your doctor discuss what’s wrong with you like it’s a group project? Do you not go at all because you’re your own doctor?\n",
      "What is the coolest website you’ve visited that no one knows about?\n",
      "How would you feel about a TV show similar to \"Undercover Boss\", but instead of companies they secretly infiltrate and film police forces?\n",
      "If you had the ability to instantly give any person an orgasm, simply by pointing your hand at them like a finger gun and saying “pew”, how would you wield this power?\n",
      "What mind-blowing (but simple) facts would satisfy a 4-year old daughter’s daily request for 1 fact before bedtime?\n",
      "It has now been 6969 days since the year 2000. How will you celebrate this monumental day?\n",
      "People who downloaded their Google data and went through it, what were the most unsettling things you found out they had stored about you?\n",
      "Therapists of reddit, what was your biggest \"I know I'm not supposed to judge you but holy sh*t\" moment?\n",
      "What do you KNOW is true without evidence? What are you certain of, right down to your bones, without proof?\n",
      "Ruth Bader Ginsburg, US Supreme Court Justice, passed at 87\n",
      "How would you feel if Reddit added a feature where you could still use your normal account, but then have an option to press a button on your account and post anonymously rather then creating a throwaway?\n",
      "People who can fall asleep within 8 seconds of their head hitting their pillow: how the fuck do you fall asleep within 8 seconds of your head hitting your pillow?\n",
      "How would you feel about school taking up an extra hour every day to teach basic \"adult stuff\" like washing clothes, basic cooking, paying taxes?\n",
      "What was the best \"you have no power here\" moment you have ever seen?\n",
      "You're given the option to drop what you have and return to 12/31/2011 as yourself at that age, but with the extra 8 years of experience. Do you take it? Why or why not?\n",
      "As a 20-30 year old, you are offered the chance to live rent-free in a retirement or nursing home with the caveat that you must make an effort to spend at least a few hours/day with the other residents (sharing meals, hanging out, etc...). Would you take this opportunity and why or why not?\n",
      "What looks easy peasy lemon squeezy but is actually difficult difficult lemon difficult?\n",
      "What are some methods you can use to protect your lemon tree from the lemon stealing whores?\n",
      "Australians of Reddit, since no peace treaty has been signed to officially conlude the Emu War, how has life in this constant state of war been for you?\n",
      "Admins of Reddit, what's your favorite subreddit?\n",
      "I can’t breathe. Black lives matter.\n",
      "Martin Luther King, Jr. said, “If you can’t fly then run, if you can’t run then walk, if you can’t walk then crawl, but whatever you do you have to keep moving forward.” What are your life examples of this?\n",
      "Women of reddit, what do you think about the fall of constantinople in 1453 by the ottoman forces led by Mehmed II?\n",
      "When you're lying in bed at night, do you ever randomly remember some relatively minor social missteps or poorly chosen words you did/said years earlier? And then beat yourself up over it even though it really wasn't a big deal? If so, what happened?\n",
      "How would you feel about a ban of “how would you feel” questions on the sub?\n",
      "What's your favorite poverty meal that you still eat regardless of where you are financially?\n",
      "How do you feel about ’how would you feel?’ posts being banned?\n",
      "You're gifted 24 straight hours where you and your pet(s) are suddenly able to understand each other and have real conversations like you're old bffs just catching up on lost time. What would you want to tell them and how would you want to spend those hours with them?\n",
      "IF people used \"break up lines\" instead of \"pick up lines\" what would some of them be??\n",
      "You can't time travel, but your phone has the internet from 5 years in the future. What do you search for first?\n",
      "What do you think is the single greatest photograph in history?\n",
      "[Breaking News] Orlando Nightclub mass-shooting.\n",
      "Do you ever look at yourself one day and think you are hot as shit, but the next day comes and you've become Quasimodo. Why do you think this happens?\n",
      "What are some slang terms a 50 year old dad can say to his daughter to embarrass her?\n",
      "Elon Musk is now worth $197 billion, how do we sell him?\n",
      "You're cursed with the ability to see ghosts but you can only see either A. sexy ghosts that are constantly trying to get you hard at all times (you cant feel anything) or B. smart ghosts that always correct you in a condescending way to make you feel stupid, which do you choose and why?\n",
      "The words 'Low Battery' appear right before your eyes, you take off your VR headset and realized your whole life was just a VR simulation which you've been playing for only a few minutes. How do you react?\n",
      "What do you think buzzfeed employees worked on while reddit was down yesterday?\n",
      "What do you think of the idea of \"adopting\" elderly people whose children have died as parents or grandparents, much the same way we adopt children whose parents have died as our own?\n",
      "You are given a baby on your 21 first birthday, the child turns out to be you as a baby. Raising him won’t change your life, only his. How would you raise this child to give it a better life than the one you have?\n",
      "78% of suicide rates world wide are men, what can we do to help them?\n",
      "How would you feel about at least one presidential primary debate being replaced with a history/civics themed contest of Jeopardy between the candidates?\n",
      "What are subtle red flags at a job interview that say \"working here would suck\"?\n",
      "Chris Rock is performing a standup gig tonight in Boston—his first appearance since the Oscars. If you were Chris, what would be the first joke you’d tell, assuming you’d want to acknowledge Will Smith’s slap?\n",
      "Waiters what Valentine day disasters have you witnessed?\n",
      "Redditors who work at remote places like forest officers, oil rig workers, etc, what creepy things have you noticed while at work?\n",
      "In 2019, Pornhub released statistics that showed step porn is trending downwards worldwide, but hentai is rising, especially in Russia. How can we use this information to foster world peace?\n",
      "Have you ever felt you don't know/have forgotten who you really are? That you've spent years just adapting to surroundings to make life easier and don't know what's the real you anymore? If so, how did you overcome this?\n"
     ]
    }
   ],
   "source": [
    "for post in top:\n",
    "    print(post.title)\n",
    "    "
   ]
  }
 ],
 "metadata": {
  "kernelspec": {
   "display_name": ".venv",
   "language": "python",
   "name": "python3"
  },
  "language_info": {
   "codemirror_mode": {
    "name": "ipython",
    "version": 3
   },
   "file_extension": ".py",
   "mimetype": "text/x-python",
   "name": "python",
   "nbconvert_exporter": "python",
   "pygments_lexer": "ipython3",
   "version": "3.13.2"
  }
 },
 "nbformat": 4,
 "nbformat_minor": 5
}
